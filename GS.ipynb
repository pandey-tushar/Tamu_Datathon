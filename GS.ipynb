{
  "nbformat": 4,
  "nbformat_minor": 0,
  "metadata": {
    "colab": {
      "name": "GS",
      "provenance": [],
      "collapsed_sections": [],
      "machine_shape": "hm"
    },
    "kernelspec": {
      "name": "python3",
      "display_name": "Python 3"
    }
  },
  "cells": [
    {
      "cell_type": "code",
      "metadata": {
        "id": "Tju8RFffWLU1",
        "colab_type": "code",
        "colab": {}
      },
      "source": [
        "import pandas as pd\n",
        "import numpy as np\n",
        "import datetime as dt\n",
        "import matplotlib.pyplot as plt\n",
        "import seaborn as sns"
      ],
      "execution_count": 0,
      "outputs": []
    },
    {
      "cell_type": "code",
      "metadata": {
        "id": "OP0DRh0RWdmG",
        "colab_type": "code",
        "colab": {}
      },
      "source": [
        "df = pd.read_csv('gs_data.csv')\n",
        "df = df.iloc[:,1:22]"
      ],
      "execution_count": 0,
      "outputs": []
    },
    {
      "cell_type": "code",
      "metadata": {
        "id": "Z8WtA5fwaFEn",
        "colab_type": "code",
        "colab": {}
      },
      "source": [
        "df.dropna(subset = ['menus.description'], inplace = True)\n",
        "df = df.sort_values(by=['province'])\n",
        "df['postalCode'] = df['postalCode'].fillna(method= 'ffill')\n",
        "df = df.sort_values(by=['postalCode'])\n",
        "df['latitude'] = df['latitude'].fillna(method='ffill')\n",
        "df['longitude'] = df['longitude'].fillna(method='ffill')\n",
        "df['priceRangeMin'] = df['priceRangeMin'].fillna(df['priceRangeMin'].mode()[0])\n",
        "df['priceRangeMax'] = df['priceRangeMax'].fillna(df['priceRangeMax'].mode()[0])"
      ],
      "execution_count": 0,
      "outputs": []
    },
    {
      "cell_type": "markdown",
      "metadata": {
        "id": "nBZ1wHLr0HCB",
        "colab_type": "text"
      },
      "source": [
        "Pick out day, month and year separately from datetime"
      ]
    },
    {
      "cell_type": "code",
      "metadata": {
        "id": "lchsQtn5WnJb",
        "colab_type": "code",
        "colab": {}
      },
      "source": [
        "df['menus.dateSeen'] = df['menus.dateSeen'].str[:10]\n",
        "df['menus.dateSeen'] = pd.to_datetime(df['menus.dateSeen'])\n",
        "df['dateAdded'] = pd.to_datetime(df['dateAdded'])\n",
        "df['year_dateAdded'] = df['dateAdded'].dt.year\n",
        "df['month_dateAdded'] = df['dateAdded'].dt.month\n",
        "df['day_dateAdded']= df['dateAdded'].dt.day\n",
        "df['year_last_seen'] = df['menus.dateSeen'].dt.year\n",
        "df['month_last_seen'] = df['menus.dateSeen'].dt.month\n",
        "df['day_last_seen'] = df['menus.dateSeen'].dt.day\n"
      ],
      "execution_count": 0,
      "outputs": []
    },
    {
      "cell_type": "code",
      "metadata": {
        "id": "OP4h_bOsWyRM",
        "colab_type": "code",
        "colab": {}
      },
      "source": [
        "ingred = ['cheese','beef','onion','rice','sauce','salsa','chicken','beans','lettuce','corn','avocado','cilantro']\n",
        "for i in ingred:\n",
        "  df[i] = df['menus.description'].str.contains(i,na = False).astype(int)\n",
        "df['categories'] = df['categories'].astype(str).str.lower()"
      ],
      "execution_count": 0,
      "outputs": []
    },
    {
      "cell_type": "markdown",
      "metadata": {
        "id": "19wvw17k2A54",
        "colab_type": "text"
      },
      "source": [
        "Remove stopwords from categories"
      ]
    },
    {
      "cell_type": "code",
      "metadata": {
        "id": "ze0auu4dZoay",
        "colab_type": "code",
        "outputId": "5a082099-4900-4b42-9c96-0405df8fe8e2",
        "colab": {
          "base_uri": "https://localhost:8080/",
          "height": 51
        }
      },
      "source": [
        "import nltk\n",
        "nltk.download('stopwords')\n",
        "#nltk.download('punkt')\n",
        "stopwords = nltk.corpus.stopwords.words('english')\n",
        "df['categories'] = df['categories'].str.replace('[^\\w\\s]','')\n",
        "df['categories_no_stop'] = df['categories'].apply(lambda x:' '.join([word for word in x.split() if word not in (stopwords)]))\n",
        "df['cuisines'] = df['cuisines'].astype(str).str.lower().str.replace('[^\\w\\s]','')\n",
        "df['cuisines_no_stop'] = df['cuisines'].apply(lambda x: ' '.join([word for word in x.split() if word not in (stopwords)]))"
      ],
      "execution_count": 34,
      "outputs": [
        {
          "output_type": "stream",
          "text": [
            "[nltk_data] Downloading package stopwords to /root/nltk_data...\n",
            "[nltk_data]   Package stopwords is already up-to-date!\n"
          ],
          "name": "stdout"
        }
      ]
    },
    {
      "cell_type": "markdown",
      "metadata": {
        "id": "guLP8nge2kJ7",
        "colab_type": "text"
      },
      "source": [
        "Count the most frequent words and create columns for it."
      ]
    },
    {
      "cell_type": "code",
      "metadata": {
        "id": "DumW1QpRaInY",
        "colab_type": "code",
        "colab": {}
      },
      "source": [
        "from collections import Counter\n",
        "res_type_select = Counter(\" \".join(df[\"categories_no_stop\"]).split()).most_common(20)\n",
        "for i,j in res_type_select:\n",
        "  df[i] = df['categories'].str.contains(i,na = False).astype(int)\n",
        "cuisines_type = Counter(\" \".join(df[\"cuisines_no_stop\"]).split()).most_common(20)\n",
        "for i,j in cuisines_type:\n",
        "  df[i + '_' + 'cuisine'] = df['cuisines'].str.contains(i, na = False).astype(int)\n"
      ],
      "execution_count": 0,
      "outputs": []
    },
    {
      "cell_type": "markdown",
      "metadata": {
        "id": "t5ItorC-5f43",
        "colab_type": "text"
      },
      "source": [
        "drop irrelevant columns\n",
        "\n"
      ]
    },
    {
      "cell_type": "code",
      "metadata": {
        "colab_type": "code",
        "id": "Fiujivf85exZ",
        "colab": {}
      },
      "source": [
        "df = df.drop(['categories','dateUpdated','menuPageURL','menus.category','websites','cuisines','menus.description','categories_no_stop','cuisines_no_stop','dateAdded', 'menus.dateSeen'],axis=1)\n"
      ],
      "execution_count": 0,
      "outputs": []
    },
    {
      "cell_type": "markdown",
      "metadata": {
        "id": "RG6foaj05ty6",
        "colab_type": "text"
      },
      "source": [
        "create a training data set and create two subsets of data with numeric and categoric type."
      ]
    },
    {
      "cell_type": "code",
      "metadata": {
        "id": "3ApGkisoeZWk",
        "colab_type": "code",
        "colab": {
          "base_uri": "https://localhost:8080/",
          "height": 102
        },
        "outputId": "dd67d3df-0b28-4526-955d-a052c7a54e2c"
      },
      "source": [
        "df_train = df.copy()\n",
        "\n",
        "df_test = df[(df['menus.amountMax'].isnull())]\n",
        "df_test.dropna(subset = ['menus.amountMin'], inplace = True)\n",
        "df_test_categor = df_test.select_dtypes(exclude=['int', 'float']).astype('category').apply(lambda x: x.cat.codes)\n",
        "df_test_numeric = df_test.select_dtypes(include=['int','float'])\n",
        "\n",
        "df_train.dropna(subset = ['menus.amountMax', 'menus.amountMin'], inplace = True)\n",
        "df_numeric = df_train.select_dtypes(include = ['int', 'float'])\n",
        "df_categor = df_train.select_dtypes(exclude = ['int', 'float']).astype('category').apply(lambda x: x.cat.codes)"
      ],
      "execution_count": 37,
      "outputs": [
        {
          "output_type": "stream",
          "text": [
            "/usr/local/lib/python3.6/dist-packages/ipykernel_launcher.py:4: SettingWithCopyWarning: \n",
            "A value is trying to be set on a copy of a slice from a DataFrame\n",
            "\n",
            "See the caveats in the documentation: http://pandas.pydata.org/pandas-docs/stable/user_guide/indexing.html#returning-a-view-versus-a-copy\n",
            "  after removing the cwd from sys.path.\n"
          ],
          "name": "stderr"
        }
      ]
    },
    {
      "cell_type": "markdown",
      "metadata": {
        "id": "GYMD00Ka-qGF",
        "colab_type": "text"
      },
      "source": [
        "Merge both subsets"
      ]
    },
    {
      "cell_type": "code",
      "metadata": {
        "id": "wtWvRSK6cvmb",
        "colab_type": "code",
        "colab": {}
      },
      "source": [
        "df_train_new = pd.concat([df_numeric, df_categor],axis = 1)\n",
        "df_test_new=pd.concat([df_test_numeric, df_test_categor], axis=1)"
      ],
      "execution_count": 0,
      "outputs": []
    },
    {
      "cell_type": "code",
      "metadata": {
        "id": "as1obPj0d1x8",
        "colab_type": "code",
        "colab": {}
      },
      "source": [
        "from sklearn.ensemble import forest\n",
        "def set_rf_samples(n):\n",
        "  #give each tree a random sample of n rows\n",
        "  forest._generate_sample_indices = (lambda rs, n_samples: forest.check_random_state(rs).randint(0,n_samples,n))\n",
        "\n",
        "def reset_rf_samples():\n",
        "  #undo the changes\n",
        "  forest._generate_sample_indices = (lambda rs, n_samples: forest.check_random_state(rs).randint(0, n_samples, n_samples))\n",
        "\n",
        "set_rf_samples(25000)\n"
      ],
      "execution_count": 0,
      "outputs": []
    },
    {
      "cell_type": "markdown",
      "metadata": {
        "id": "w2LduQRCBVPD",
        "colab_type": "text"
      },
      "source": [
        "RandomForestRegressor model"
      ]
    },
    {
      "cell_type": "code",
      "metadata": {
        "id": "fvtz0dzVefgD",
        "colab_type": "code",
        "colab": {}
      },
      "source": [
        "from sklearn.ensemble import RandomForestRegressor\n",
        "from sklearn.model_selection import train_test_split\n",
        "\n",
        "dep_var = df_train_new['menus.amountMax']\n",
        "df_train_new = df_train_new.drop(['menus.amountMax', 'menus.amountMin'], axis = 1)\n",
        "X_train, X_valid, y_train, y_Valid = train_test_split(df_train_new, dep_var, test_size = 0.1)\n",
        "\n",
        "df_test_new = df_test_new.drop(['menus.amountMin','menus.amountMax'], axis=1)\n"
      ],
      "execution_count": 0,
      "outputs": []
    },
    {
      "cell_type": "markdown",
      "metadata": {
        "id": "xJEILaYzNE7I",
        "colab_type": "text"
      },
      "source": [
        "Fit random forest regressor"
      ]
    },
    {
      "cell_type": "code",
      "metadata": {
        "id": "V-QI0_xJgTqS",
        "colab_type": "code",
        "outputId": "0b1fe8ad-7338-4352-cbde-974d22609743",
        "colab": {
          "base_uri": "https://localhost:8080/",
          "height": 34
        }
      },
      "source": [
        "m1 = RandomForestRegressor(n_estimators = 500, n_jobs=-1, bootstrap = False, criterion='mse')\n",
        "m1.fit(X_train, y_train)\n",
        "from sklearn.metrics import r2_score\n",
        "r2_score(m1.predict(X_valid), y_Valid)"
      ],
      "execution_count": 41,
      "outputs": [
        {
          "output_type": "execute_result",
          "data": {
            "text/plain": [
              "0.6169938628549392"
            ]
          },
          "metadata": {
            "tags": []
          },
          "execution_count": 41
        }
      ]
    },
    {
      "cell_type": "code",
      "metadata": {
        "id": "k3KzgtiFkhiJ",
        "colab_type": "code",
        "outputId": "906f95f6-52d8-49f1-eb87-d55b31289a63",
        "colab": {
          "base_uri": "https://localhost:8080/",
          "height": 282
        }
      },
      "source": [
        "fi = pd.Series(m1.feature_importances_,index = X_train.columns)\n",
        "fi= fi.sort_values(axis = 0, ascending = False)\n",
        "to_keep = fi[fi>.01]\n",
        "df_keep = df_train_new[to_keep.index].copy()\n",
        "pd.Series(m1.feature_importances_, index = X_train.columns).nlargest(20).plot(kind ='barh')\n"
      ],
      "execution_count": 42,
      "outputs": [
        {
          "output_type": "execute_result",
          "data": {
            "text/plain": [
              "<matplotlib.axes._subplots.AxesSubplot at 0x7f1e9370a550>"
            ]
          },
          "metadata": {
            "tags": []
          },
          "execution_count": 42
        },
        {
          "output_type": "display_data",
          "data": {
            "image/png": "[encoded data removed]",
            "text/plain": [
              "<Figure size 432x288 with 1 Axes>"
            ]
          },
          "metadata": {
            "tags": []
          }
        }
      ]
    },
    {
      "cell_type": "code",
      "metadata": {
        "id": "don-8KAazRfd",
        "colab_type": "code",
        "outputId": "e6e6049c-fd00-45ed-9a70-32d1012daa3e",
        "colab": {
          "base_uri": "https://localhost:8080/",
          "height": 34
        }
      },
      "source": [
        "score_train = m1.score(X_train, y_train)\n",
        "score_valid = m1.score(X_valid, y_Valid)\n",
        "print(score_train ,score_valid)"
      ],
      "execution_count": 44,
      "outputs": [
        {
          "output_type": "stream",
          "text": [
            "0.9999853522178638 0.5167626595198125\n"
          ],
          "name": "stdout"
        }
      ]
    },
    {
      "cell_type": "code",
      "metadata": {
        "id": "gOTG0ZXjlMxR",
        "colab_type": "code",
        "outputId": "1473cb86-b9e1-40fd-d75b-a06c3c181cfd",
        "colab": {
          "base_uri": "https://localhost:8080/",
          "height": 1000
        }
      },
      "source": [
        "import xgboost as xgb\n",
        "model_xgb = xgb.XGBRegressor(n_estimators = 300, learning_rate = 0.3,booster = 'gbtree', max_depth = 20, min_child_weight = 3, reg_lambda = 0.005, reg_alpha = 10, gamma = 0.25, eta = 0.1)\n",
        "eval_set = [(X_train, y_train), (X_valid, y_Valid)]\n",
        "model_xgb.fit(X_train, y_train,eval_set = eval_set, early_stopping_rounds = 30)\n"
      ],
      "execution_count": 45,
      "outputs": [
        {
          "output_type": "stream",
          "text": [
            "/usr/local/lib/python3.6/dist-packages/xgboost/core.py:587: FutureWarning: Series.base is deprecated and will be removed in a future version\n",
            "  if getattr(data, 'base', None) is not None and \\\n"
          ],
          "name": "stderr"
        },
        {
          "output_type": "stream",
          "text": [
            "[00:10:49] WARNING: /workspace/src/objective/regression_obj.cu:152: reg:linear is now deprecated in favor of reg:squarederror.\n",
            "[0]\tvalidation_0-rmse:14.0688\tvalidation_1-rmse:12.6241\n",
            "Multiple eval metrics have been passed: 'validation_1-rmse' will be used for early stopping.\n",
            "\n",
            "Will train until validation_1-rmse hasn't improved in 30 rounds.\n",
            "[1]\tvalidation_0-rmse:11.8848\tvalidation_1-rmse:11.2951\n",
            "[2]\tvalidation_0-rmse:10.1723\tvalidation_1-rmse:10.7974\n",
            "[3]\tvalidation_0-rmse:9.11647\tvalidation_1-rmse:10.2236\n",
            "[4]\tvalidation_0-rmse:8.24446\tvalidation_1-rmse:10.0345\n",
            "[5]\tvalidation_0-rmse:7.66221\tvalidation_1-rmse:10.01\n",
            "[6]\tvalidation_0-rmse:6.96913\tvalidation_1-rmse:9.66421\n",
            "[7]\tvalidation_0-rmse:6.23895\tvalidation_1-rmse:9.23823\n",
            "[8]\tvalidation_0-rmse:5.72542\tvalidation_1-rmse:9.07298\n",
            "[9]\tvalidation_0-rmse:5.18481\tvalidation_1-rmse:8.69455\n",
            "[10]\tvalidation_0-rmse:4.62546\tvalidation_1-rmse:8.50385\n",
            "[11]\tvalidation_0-rmse:4.27325\tvalidation_1-rmse:8.39331\n",
            "[12]\tvalidation_0-rmse:3.95617\tvalidation_1-rmse:8.26963\n",
            "[13]\tvalidation_0-rmse:3.69673\tvalidation_1-rmse:8.19028\n",
            "[14]\tvalidation_0-rmse:3.48148\tvalidation_1-rmse:8.13238\n",
            "[15]\tvalidation_0-rmse:3.3561\tvalidation_1-rmse:8.11579\n",
            "[16]\tvalidation_0-rmse:2.9923\tvalidation_1-rmse:8.0375\n",
            "[17]\tvalidation_0-rmse:2.85737\tvalidation_1-rmse:8.09102\n",
            "[18]\tvalidation_0-rmse:2.64403\tvalidation_1-rmse:7.82422\n",
            "[19]\tvalidation_0-rmse:2.45109\tvalidation_1-rmse:7.64198\n",
            "[20]\tvalidation_0-rmse:2.29994\tvalidation_1-rmse:7.50337\n",
            "[21]\tvalidation_0-rmse:2.18293\tvalidation_1-rmse:7.38732\n",
            "[22]\tvalidation_0-rmse:2.0987\tvalidation_1-rmse:7.33114\n",
            "[23]\tvalidation_0-rmse:2.0354\tvalidation_1-rmse:7.30826\n",
            "[24]\tvalidation_0-rmse:1.95531\tvalidation_1-rmse:7.27915\n",
            "[25]\tvalidation_0-rmse:1.87229\tvalidation_1-rmse:7.2606\n",
            "[26]\tvalidation_0-rmse:1.74403\tvalidation_1-rmse:7.14821\n",
            "[27]\tvalidation_0-rmse:1.6934\tvalidation_1-rmse:7.14133\n",
            "[28]\tvalidation_0-rmse:1.59708\tvalidation_1-rmse:7.07663\n",
            "[29]\tvalidation_0-rmse:1.51864\tvalidation_1-rmse:7.01597\n",
            "[30]\tvalidation_0-rmse:1.45132\tvalidation_1-rmse:6.95248\n",
            "[31]\tvalidation_0-rmse:1.40055\tvalidation_1-rmse:6.94642\n",
            "[32]\tvalidation_0-rmse:1.3672\tvalidation_1-rmse:6.93869\n",
            "[33]\tvalidation_0-rmse:1.30835\tvalidation_1-rmse:6.92959\n",
            "[34]\tvalidation_0-rmse:1.26611\tvalidation_1-rmse:6.88001\n",
            "[35]\tvalidation_0-rmse:1.23934\tvalidation_1-rmse:6.87918\n",
            "[36]\tvalidation_0-rmse:1.21118\tvalidation_1-rmse:6.87022\n",
            "[37]\tvalidation_0-rmse:1.18828\tvalidation_1-rmse:6.85996\n",
            "[38]\tvalidation_0-rmse:1.15423\tvalidation_1-rmse:6.82081\n",
            "[39]\tvalidation_0-rmse:1.11977\tvalidation_1-rmse:6.81355\n",
            "[40]\tvalidation_0-rmse:1.09139\tvalidation_1-rmse:6.79013\n",
            "[41]\tvalidation_0-rmse:1.06384\tvalidation_1-rmse:6.78735\n",
            "[42]\tvalidation_0-rmse:1.04318\tvalidation_1-rmse:6.76132\n",
            "[43]\tvalidation_0-rmse:1.0194\tvalidation_1-rmse:6.73605\n",
            "[44]\tvalidation_0-rmse:1.00573\tvalidation_1-rmse:6.71828\n",
            "[45]\tvalidation_0-rmse:0.985323\tvalidation_1-rmse:6.70542\n",
            "[46]\tvalidation_0-rmse:0.970548\tvalidation_1-rmse:6.70149\n",
            "[47]\tvalidation_0-rmse:0.957151\tvalidation_1-rmse:6.6986\n",
            "[48]\tvalidation_0-rmse:0.946592\tvalidation_1-rmse:6.6966\n",
            "[49]\tvalidation_0-rmse:0.937992\tvalidation_1-rmse:6.69818\n",
            "[50]\tvalidation_0-rmse:0.919863\tvalidation_1-rmse:6.69097\n",
            "[51]\tvalidation_0-rmse:0.904206\tvalidation_1-rmse:6.67402\n",
            "[52]\tvalidation_0-rmse:0.89251\tvalidation_1-rmse:6.66765\n",
            "[53]\tvalidation_0-rmse:0.879914\tvalidation_1-rmse:6.65811\n",
            "[54]\tvalidation_0-rmse:0.870884\tvalidation_1-rmse:6.65716\n",
            "[55]\tvalidation_0-rmse:0.858905\tvalidation_1-rmse:6.64414\n",
            "[56]\tvalidation_0-rmse:0.848178\tvalidation_1-rmse:6.63398\n",
            "[57]\tvalidation_0-rmse:0.840888\tvalidation_1-rmse:6.63402\n",
            "[58]\tvalidation_0-rmse:0.827534\tvalidation_1-rmse:6.6279\n",
            "[59]\tvalidation_0-rmse:0.817489\tvalidation_1-rmse:6.62175\n",
            "[60]\tvalidation_0-rmse:0.811246\tvalidation_1-rmse:6.61527\n",
            "[61]\tvalidation_0-rmse:0.802375\tvalidation_1-rmse:6.60727\n",
            "[62]\tvalidation_0-rmse:0.795788\tvalidation_1-rmse:6.60251\n",
            "[63]\tvalidation_0-rmse:0.788055\tvalidation_1-rmse:6.59535\n",
            "[64]\tvalidation_0-rmse:0.778663\tvalidation_1-rmse:6.59502\n",
            "[65]\tvalidation_0-rmse:0.771468\tvalidation_1-rmse:6.5925\n",
            "[66]\tvalidation_0-rmse:0.76642\tvalidation_1-rmse:6.59329\n",
            "[67]\tvalidation_0-rmse:0.76061\tvalidation_1-rmse:6.59379\n",
            "[68]\tvalidation_0-rmse:0.755523\tvalidation_1-rmse:6.59586\n",
            "[69]\tvalidation_0-rmse:0.748648\tvalidation_1-rmse:6.59507\n",
            "[70]\tvalidation_0-rmse:0.74564\tvalidation_1-rmse:6.59485\n",
            "[71]\tvalidation_0-rmse:0.740792\tvalidation_1-rmse:6.59276\n",
            "[72]\tvalidation_0-rmse:0.735906\tvalidation_1-rmse:6.59142\n",
            "[73]\tvalidation_0-rmse:0.73131\tvalidation_1-rmse:6.59336\n",
            "[74]\tvalidation_0-rmse:0.728373\tvalidation_1-rmse:6.59056\n",
            "[75]\tvalidation_0-rmse:0.72369\tvalidation_1-rmse:6.58993\n",
            "[76]\tvalidation_0-rmse:0.721103\tvalidation_1-rmse:6.58874\n",
            "[77]\tvalidation_0-rmse:0.718528\tvalidation_1-rmse:6.58794\n",
            "[78]\tvalidation_0-rmse:0.715923\tvalidation_1-rmse:6.58782\n",
            "[79]\tvalidation_0-rmse:0.712763\tvalidation_1-rmse:6.58722\n",
            "[80]\tvalidation_0-rmse:0.709983\tvalidation_1-rmse:6.58684\n",
            "[81]\tvalidation_0-rmse:0.706486\tvalidation_1-rmse:6.58674\n",
            "[82]\tvalidation_0-rmse:0.703385\tvalidation_1-rmse:6.58696\n",
            "[83]\tvalidation_0-rmse:0.698751\tvalidation_1-rmse:6.58705\n",
            "[84]\tvalidation_0-rmse:0.696169\tvalidation_1-rmse:6.58735\n",
            "[85]\tvalidation_0-rmse:0.693985\tvalidation_1-rmse:6.58709\n",
            "[86]\tvalidation_0-rmse:0.691623\tvalidation_1-rmse:6.58563\n",
            "[87]\tvalidation_0-rmse:0.689062\tvalidation_1-rmse:6.58519\n",
            "[88]\tvalidation_0-rmse:0.68776\tvalidation_1-rmse:6.58503\n",
            "[89]\tvalidation_0-rmse:0.685951\tvalidation_1-rmse:6.58455\n",
            "[90]\tvalidation_0-rmse:0.683606\tvalidation_1-rmse:6.58497\n",
            "[91]\tvalidation_0-rmse:0.682335\tvalidation_1-rmse:6.58477\n",
            "[92]\tvalidation_0-rmse:0.681244\tvalidation_1-rmse:6.58488\n",
            "[93]\tvalidation_0-rmse:0.678947\tvalidation_1-rmse:6.58347\n",
            "[94]\tvalidation_0-rmse:0.677258\tvalidation_1-rmse:6.5834\n",
            "[95]\tvalidation_0-rmse:0.674835\tvalidation_1-rmse:6.5838\n",
            "[96]\tvalidation_0-rmse:0.673404\tvalidation_1-rmse:6.58356\n",
            "[97]\tvalidation_0-rmse:0.671888\tvalidation_1-rmse:6.58292\n",
            "[98]\tvalidation_0-rmse:0.670359\tvalidation_1-rmse:6.58317\n",
            "[99]\tvalidation_0-rmse:0.668449\tvalidation_1-rmse:6.58327\n",
            "[100]\tvalidation_0-rmse:0.667265\tvalidation_1-rmse:6.58319\n",
            "[101]\tvalidation_0-rmse:0.664794\tvalidation_1-rmse:6.58196\n",
            "[102]\tvalidation_0-rmse:0.66396\tvalidation_1-rmse:6.5818\n",
            "[103]\tvalidation_0-rmse:0.662456\tvalidation_1-rmse:6.58125\n",
            "[104]\tvalidation_0-rmse:0.660969\tvalidation_1-rmse:6.58097\n",
            "[105]\tvalidation_0-rmse:0.660333\tvalidation_1-rmse:6.5808\n",
            "[106]\tvalidation_0-rmse:0.659672\tvalidation_1-rmse:6.58091\n",
            "[107]\tvalidation_0-rmse:0.658071\tvalidation_1-rmse:6.58097\n",
            "[108]\tvalidation_0-rmse:0.65685\tvalidation_1-rmse:6.58118\n",
            "[109]\tvalidation_0-rmse:0.656037\tvalidation_1-rmse:6.58135\n",
            "[110]\tvalidation_0-rmse:0.654553\tvalidation_1-rmse:6.58161\n",
            "[111]\tvalidation_0-rmse:0.654019\tvalidation_1-rmse:6.58181\n",
            "[112]\tvalidation_0-rmse:0.65337\tvalidation_1-rmse:6.58195\n",
            "[113]\tvalidation_0-rmse:0.652919\tvalidation_1-rmse:6.58167\n",
            "[114]\tvalidation_0-rmse:0.652302\tvalidation_1-rmse:6.58159\n",
            "[115]\tvalidation_0-rmse:0.649918\tvalidation_1-rmse:6.58113\n",
            "[116]\tvalidation_0-rmse:0.64912\tvalidation_1-rmse:6.58101\n",
            "[117]\tvalidation_0-rmse:0.647901\tvalidation_1-rmse:6.58007\n",
            "[118]\tvalidation_0-rmse:0.647186\tvalidation_1-rmse:6.57995\n",
            "[119]\tvalidation_0-rmse:0.646422\tvalidation_1-rmse:6.57988\n",
            "[120]\tvalidation_0-rmse:0.645958\tvalidation_1-rmse:6.5799\n",
            "[121]\tvalidation_0-rmse:0.645272\tvalidation_1-rmse:6.57943\n",
            "[122]\tvalidation_0-rmse:0.644071\tvalidation_1-rmse:6.57937\n",
            "[123]\tvalidation_0-rmse:0.64331\tvalidation_1-rmse:6.57901\n",
            "[124]\tvalidation_0-rmse:0.64286\tvalidation_1-rmse:6.5789\n",
            "[125]\tvalidation_0-rmse:0.642267\tvalidation_1-rmse:6.57903\n",
            "[126]\tvalidation_0-rmse:0.641426\tvalidation_1-rmse:6.5786\n",
            "[127]\tvalidation_0-rmse:0.640557\tvalidation_1-rmse:6.57873\n",
            "[128]\tvalidation_0-rmse:0.639857\tvalidation_1-rmse:6.57919\n",
            "[129]\tvalidation_0-rmse:0.639057\tvalidation_1-rmse:6.57902\n",
            "[130]\tvalidation_0-rmse:0.638566\tvalidation_1-rmse:6.57851\n",
            "[131]\tvalidation_0-rmse:0.637668\tvalidation_1-rmse:6.5781\n",
            "[132]\tvalidation_0-rmse:0.636786\tvalidation_1-rmse:6.57817\n",
            "[133]\tvalidation_0-rmse:0.635825\tvalidation_1-rmse:6.57803\n",
            "[134]\tvalidation_0-rmse:0.634608\tvalidation_1-rmse:6.57628\n",
            "[135]\tvalidation_0-rmse:0.633578\tvalidation_1-rmse:6.57625\n",
            "[136]\tvalidation_0-rmse:0.632939\tvalidation_1-rmse:6.57605\n",
            "[137]\tvalidation_0-rmse:0.631872\tvalidation_1-rmse:6.57513\n",
            "[138]\tvalidation_0-rmse:0.63102\tvalidation_1-rmse:6.57524\n",
            "[139]\tvalidation_0-rmse:0.630121\tvalidation_1-rmse:6.57521\n",
            "[140]\tvalidation_0-rmse:0.629934\tvalidation_1-rmse:6.57506\n",
            "[141]\tvalidation_0-rmse:0.629372\tvalidation_1-rmse:6.57498\n",
            "[142]\tvalidation_0-rmse:0.629061\tvalidation_1-rmse:6.57518\n",
            "[143]\tvalidation_0-rmse:0.628015\tvalidation_1-rmse:6.57553\n",
            "[144]\tvalidation_0-rmse:0.627418\tvalidation_1-rmse:6.57546\n",
            "[145]\tvalidation_0-rmse:0.626336\tvalidation_1-rmse:6.57554\n",
            "[146]\tvalidation_0-rmse:0.625802\tvalidation_1-rmse:6.57538\n",
            "[147]\tvalidation_0-rmse:0.625645\tvalidation_1-rmse:6.57537\n",
            "[148]\tvalidation_0-rmse:0.624806\tvalidation_1-rmse:6.57572\n",
            "[149]\tvalidation_0-rmse:0.624084\tvalidation_1-rmse:6.57555\n",
            "[150]\tvalidation_0-rmse:0.623411\tvalidation_1-rmse:6.57556\n",
            "[151]\tvalidation_0-rmse:0.622947\tvalidation_1-rmse:6.5754\n",
            "[152]\tvalidation_0-rmse:0.621987\tvalidation_1-rmse:6.57493\n",
            "[153]\tvalidation_0-rmse:0.621817\tvalidation_1-rmse:6.57502\n",
            "[154]\tvalidation_0-rmse:0.621635\tvalidation_1-rmse:6.57499\n",
            "[155]\tvalidation_0-rmse:0.621236\tvalidation_1-rmse:6.57489\n",
            "[156]\tvalidation_0-rmse:0.620846\tvalidation_1-rmse:6.57457\n",
            "[157]\tvalidation_0-rmse:0.620303\tvalidation_1-rmse:6.5747\n",
            "[158]\tvalidation_0-rmse:0.61991\tvalidation_1-rmse:6.5748\n",
            "[159]\tvalidation_0-rmse:0.619637\tvalidation_1-rmse:6.57481\n",
            "[160]\tvalidation_0-rmse:0.619233\tvalidation_1-rmse:6.57478\n",
            "[161]\tvalidation_0-rmse:0.618677\tvalidation_1-rmse:6.57477\n",
            "[162]\tvalidation_0-rmse:0.617856\tvalidation_1-rmse:6.57474\n",
            "[163]\tvalidation_0-rmse:0.617765\tvalidation_1-rmse:6.57477\n",
            "[164]\tvalidation_0-rmse:0.617383\tvalidation_1-rmse:6.57471\n",
            "[165]\tvalidation_0-rmse:0.617059\tvalidation_1-rmse:6.57469\n",
            "[166]\tvalidation_0-rmse:0.616696\tvalidation_1-rmse:6.57467\n",
            "[167]\tvalidation_0-rmse:0.616567\tvalidation_1-rmse:6.57461\n",
            "[168]\tvalidation_0-rmse:0.616109\tvalidation_1-rmse:6.57435\n",
            "[169]\tvalidation_0-rmse:0.615026\tvalidation_1-rmse:6.57433\n",
            "[170]\tvalidation_0-rmse:0.6145\tvalidation_1-rmse:6.57371\n",
            "[171]\tvalidation_0-rmse:0.614293\tvalidation_1-rmse:6.57371\n",
            "[172]\tvalidation_0-rmse:0.613782\tvalidation_1-rmse:6.57378\n",
            "[173]\tvalidation_0-rmse:0.613608\tvalidation_1-rmse:6.57373\n",
            "[174]\tvalidation_0-rmse:0.61257\tvalidation_1-rmse:6.57306\n",
            "[175]\tvalidation_0-rmse:0.612209\tvalidation_1-rmse:6.57292\n",
            "[176]\tvalidation_0-rmse:0.611797\tvalidation_1-rmse:6.5729\n",
            "[177]\tvalidation_0-rmse:0.611392\tvalidation_1-rmse:6.57274\n",
            "[178]\tvalidation_0-rmse:0.611319\tvalidation_1-rmse:6.57283\n",
            "[179]\tvalidation_0-rmse:0.610584\tvalidation_1-rmse:6.57257\n",
            "[180]\tvalidation_0-rmse:0.609885\tvalidation_1-rmse:6.57273\n",
            "[181]\tvalidation_0-rmse:0.60936\tvalidation_1-rmse:6.57264\n",
            "[182]\tvalidation_0-rmse:0.609006\tvalidation_1-rmse:6.57264\n",
            "[183]\tvalidation_0-rmse:0.608717\tvalidation_1-rmse:6.57274\n",
            "[184]\tvalidation_0-rmse:0.608308\tvalidation_1-rmse:6.57279\n",
            "[185]\tvalidation_0-rmse:0.607991\tvalidation_1-rmse:6.57243\n",
            "[186]\tvalidation_0-rmse:0.60786\tvalidation_1-rmse:6.57239\n",
            "[187]\tvalidation_0-rmse:0.607608\tvalidation_1-rmse:6.57245\n",
            "[188]\tvalidation_0-rmse:0.607498\tvalidation_1-rmse:6.57238\n",
            "[189]\tvalidation_0-rmse:0.607345\tvalidation_1-rmse:6.57237\n",
            "[190]\tvalidation_0-rmse:0.606928\tvalidation_1-rmse:6.57222\n",
            "[191]\tvalidation_0-rmse:0.606668\tvalidation_1-rmse:6.57219\n",
            "[192]\tvalidation_0-rmse:0.606465\tvalidation_1-rmse:6.57227\n",
            "[193]\tvalidation_0-rmse:0.60602\tvalidation_1-rmse:6.57226\n",
            "[194]\tvalidation_0-rmse:0.605546\tvalidation_1-rmse:6.57249\n",
            "[195]\tvalidation_0-rmse:0.605499\tvalidation_1-rmse:6.57252\n",
            "[196]\tvalidation_0-rmse:0.605234\tvalidation_1-rmse:6.57238\n",
            "[197]\tvalidation_0-rmse:0.604806\tvalidation_1-rmse:6.57238\n",
            "[198]\tvalidation_0-rmse:0.604665\tvalidation_1-rmse:6.57243\n",
            "[199]\tvalidation_0-rmse:0.604082\tvalidation_1-rmse:6.57247\n",
            "[200]\tvalidation_0-rmse:0.603808\tvalidation_1-rmse:6.57254\n",
            "[201]\tvalidation_0-rmse:0.603515\tvalidation_1-rmse:6.57246\n",
            "[202]\tvalidation_0-rmse:0.603515\tvalidation_1-rmse:6.57246\n",
            "[203]\tvalidation_0-rmse:0.603515\tvalidation_1-rmse:6.57246\n",
            "[204]\tvalidation_0-rmse:0.603515\tvalidation_1-rmse:6.57246\n",
            "[205]\tvalidation_0-rmse:0.603515\tvalidation_1-rmse:6.57246\n",
            "[206]\tvalidation_0-rmse:0.603515\tvalidation_1-rmse:6.57246\n",
            "[207]\tvalidation_0-rmse:0.603515\tvalidation_1-rmse:6.57246\n",
            "[208]\tvalidation_0-rmse:0.603515\tvalidation_1-rmse:6.57246\n",
            "[209]\tvalidation_0-rmse:0.603515\tvalidation_1-rmse:6.57246\n",
            "[210]\tvalidation_0-rmse:0.603515\tvalidation_1-rmse:6.57246\n",
            "[211]\tvalidation_0-rmse:0.603515\tvalidation_1-rmse:6.57246\n",
            "[212]\tvalidation_0-rmse:0.603515\tvalidation_1-rmse:6.57246\n",
            "[213]\tvalidation_0-rmse:0.603515\tvalidation_1-rmse:6.57246\n",
            "[214]\tvalidation_0-rmse:0.603515\tvalidation_1-rmse:6.57246\n",
            "[215]\tvalidation_0-rmse:0.603515\tvalidation_1-rmse:6.57246\n",
            "[216]\tvalidation_0-rmse:0.603515\tvalidation_1-rmse:6.57246\n",
            "[217]\tvalidation_0-rmse:0.603515\tvalidation_1-rmse:6.57246\n",
            "[218]\tvalidation_0-rmse:0.603515\tvalidation_1-rmse:6.57246\n",
            "[219]\tvalidation_0-rmse:0.603515\tvalidation_1-rmse:6.57246\n",
            "[220]\tvalidation_0-rmse:0.603515\tvalidation_1-rmse:6.57246\n",
            "[221]\tvalidation_0-rmse:0.603515\tvalidation_1-rmse:6.57246\n",
            "Stopping. Best iteration:\n",
            "[191]\tvalidation_0-rmse:0.606668\tvalidation_1-rmse:6.57219\n",
            "\n"
          ],
          "name": "stdout"
        },
        {
          "output_type": "execute_result",
          "data": {
            "text/plain": [
              "XGBRegressor(base_score=0.5, booster='gbtree', colsample_bylevel=1,\n",
              "             colsample_bynode=1, colsample_bytree=1, eta=0.1, gamma=0.25,\n",
              "             importance_type='gain', learning_rate=0.3, max_delta_step=0,\n",
              "             max_depth=20, min_child_weight=3, missing=None, n_estimators=300,\n",
              "             n_jobs=1, nthread=None, objective='reg:linear', random_state=0,\n",
              "             reg_alpha=10, reg_lambda=0.005, scale_pos_weight=1, seed=None,\n",
              "             silent=None, subsample=1, verbosity=1)"
            ]
          },
          "metadata": {
            "tags": []
          },
          "execution_count": 45
        }
      ]
    },
    {
      "cell_type": "code",
      "metadata": {
        "id": "pE9M2JXyEyvG",
        "colab_type": "code",
        "colab": {
          "base_uri": "https://localhost:8080/",
          "height": 34
        },
        "outputId": "f653416f-76c5-4779-9139-4c9208b47f85"
      },
      "source": [
        "r2_score(y_Valid, model_xgb.predict(X_valid))"
      ],
      "execution_count": 46,
      "outputs": [
        {
          "output_type": "execute_result",
          "data": {
            "text/plain": [
              "0.7448898476613397"
            ]
          },
          "metadata": {
            "tags": []
          },
          "execution_count": 46
        }
      ]
    },
    {
      "cell_type": "code",
      "metadata": {
        "id": "4o5Bz7to8wj3",
        "colab_type": "code",
        "colab": {}
      },
      "source": [
        "data_dmatrix = xgb.DMatrix(data = X_train, label = y_train)\n",
        "params = {'learning_rate':0.40,'max_depth':20,'min_child_weight':3,'reg_lambda':0.005,'reg_alpha':5,'gamma':0.5,'eta':0.1}\n",
        "cv_results = xgb.cv(dtrain = data_dmatrix, params = params, nfold = 10, num_boost_round = 2000, early_stopping_rounds = 50, metrics = 'rmse', seed = 123)\n"
      ],
      "execution_count": 0,
      "outputs": []
    },
    {
      "cell_type": "code",
      "metadata": {
        "id": "8e2vW-4lrl9g",
        "colab_type": "code",
        "colab": {}
      },
      "source": [
        "cv_results"
      ],
      "execution_count": 0,
      "outputs": []
    },
    {
      "cell_type": "code",
      "metadata": {
        "id": "myxfZBEF_XfK",
        "colab_type": "code",
        "colab": {}
      },
      "source": [
        "r2_score(y_Valid, model_xgb.predict(X_valid))"
      ],
      "execution_count": 0,
      "outputs": []
    },
    {
      "cell_type": "code",
      "metadata": {
        "id": "xp66sX34_vm4",
        "colab_type": "code",
        "colab": {}
      },
      "source": [
        "results = model_xgb.evals_result()\n",
        "fi_xgb = model_xgb.feature_importances_\n"
      ],
      "execution_count": 0,
      "outputs": []
    },
    {
      "cell_type": "code",
      "metadata": {
        "id": "h0lxUkDBKBWT",
        "colab_type": "code",
        "colab": {}
      },
      "source": [
        "price = model_xgb.predict(df_test_new)"
      ],
      "execution_count": 0,
      "outputs": []
    }
  ]
}